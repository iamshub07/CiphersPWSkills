{
 "cells": [
  {
   "cell_type": "code",
   "execution_count": 3,
   "id": "ac4f7733",
   "metadata": {},
   "outputs": [],
   "source": [
    "import requests\n",
    "import csv\n",
    "from bs4 import BeautifulSoup"
   ]
  },
  {
   "cell_type": "code",
   "execution_count": 4,
   "id": "6a98d2e2",
   "metadata": {},
   "outputs": [],
   "source": [
    "# Set the URL of the Uber app reviews page\n",
    "url = 'https://play.google.com/store/apps/details?id=com.ubercab&hl=en_IN&showAllReviews=true'\n",
    "\n",
    "# Send a GET request to the reviews page and parse the HTML content using BeautifulSoup\n",
    "response = requests.get(url)\n",
    "soup = BeautifulSoup(response.content, 'html.parser')"
   ]
  },
  {
   "cell_type": "code",
   "execution_count": 5,
   "id": "8cac7611",
   "metadata": {},
   "outputs": [
    {
     "data": {
      "text/plain": [
       "200"
      ]
     },
     "execution_count": 5,
     "metadata": {},
     "output_type": "execute_result"
    }
   ],
   "source": [
    "response.status_code"
   ]
  },
  {
   "cell_type": "code",
   "execution_count": 9,
   "id": "deb44018",
   "metadata": {},
   "outputs": [],
   "source": [
    "# Find all the review items on the page\n",
    "review_items = soup.find_all('div', {'class': 'EGFGHd'})\n",
    "\n",
    "# Create a list to store the review data\n",
    "reviews_data = []"
   ]
  },
  {
   "cell_type": "code",
   "execution_count": 10,
   "id": "d049b439",
   "metadata": {},
   "outputs": [
    {
     "data": {
      "text/plain": [
       "[<div class=\"EGFGHd\"><header class=\"c1bOId\" data-review-id=\"5bfac8f0-7090-469d-a622-3bca25c2c0a1\" jsaction=\"rcuQ6b:SIRhf\" jscontroller=\"j9sf1\"><div class=\"YNR7H\"><div class=\"gSGphe\"><img aria-hidden=\"true\" class=\"T75of abYEib\" loading=\"lazy\" src=\"https://play-lh.googleusercontent.com/a/AGNmyxbWoXZ2E95AjYrtRI9niVgZTArVJXcq_VbH4ISP=s32-mo\" srcset=\"https://play-lh.googleusercontent.com/a/AGNmyxbWoXZ2E95AjYrtRI9niVgZTArVJXcq_VbH4ISP=s64-mo 2x\"/><div class=\"X5PpBb\">Olga Hornedo</div></div><div jsaction=\"FzgWvd:uXu05d\"><div class=\"VfPpkd-xl07Ob-XxIAqe-OWXEXe-oYxtQd\" data-disable-idom=\"true\" jsaction=\"JIbuQc:aj0Jcf(WjL7X); keydown:uYT2Vb(WjL7X);iFFCZc:oNPcuf;Rld2oe:li9Srb\" jscontroller=\"wg1P6b\" jsname=\"L2ufaf\" jsshadow=\"\"><div jsname=\"WjL7X\" jsslot=\"\"><button aria-controls=\"UM33ifi14\" aria-expanded=\"false\" aria-haspopup=\"menu\" aria-label=\"More review actions\" class=\"VfPpkd-Bz112c-LgbsSe yHy1rc eT1oJ mN1ivc\" data-disable-idom=\"true\" jsaction=\"click:cOuCgd; mousedown:UX7yZ; mouseup:lbsD7e; mouseenter:tfO1Yc; mouseleave:JywGue; touchstart:p6p2H; touchmove:FwuNnf; touchend:yfqBxc; touchcancel:JMtRjd; focus:AHmuwe; blur:O22p3e; contextmenu:mg9Pef;mlnRJb:fLiPzd;\" jscontroller=\"soHxf\"><div class=\"VfPpkd-Bz112c-Jh9lGc\" jsname=\"s3Eaab\"></div><div class=\"VfPpkd-Bz112c-J1Ukfc-LhBDec\"></div><i aria-hidden=\"true\" class=\"material-icons-extended VfPpkd-kBDsod\">more_vert</i></button></div><div jsname=\"U0exHf\" jsslot=\"\"> <div class=\"VfPpkd-xl07Ob-XxIAqe VfPpkd-xl07Ob q6oraf P77izf B6Yvkd\" data-disable-idom=\"true\" data-is-hoisted=\"false\" data-menu-uid=\"ucj-2\" data-should-flip-corner-horizontally=\"false\" id=\"UM33ifi14\" jsaction=\"keydown:I481le;JIbuQc:j697N(rymPhb);XVaHYd:c9v4Fb(rymPhb);Oyo5M:b5fzT(rymPhb);DimkCe:TQSy7b(rymPhb);m0LGSd:fAWgXe(rymPhb);WAiFGd:kVJJuc(rymPhb);\" jscontroller=\"ywOR5c\"><ul aria-label=\"More review actions\" class=\"VfPpkd-StrnGf-rymPhb DMZ54e\" data-disable-idom=\"true\" jsaction=\"mouseleave:JywGue; touchcancel:JMtRjd; focus:AHmuwe; blur:O22p3e; keydown:I481le;\" jscontroller=\"PHUIyb\" jsname=\"rymPhb\" role=\"menu\" tabindex=\"-1\"><span aria-hidden=\"true\" class=\"VfPpkd-BFbNVe-bF1uUb NZp2ef\"></span><li class=\"bO7Z3c VfPpkd-StrnGf-rymPhb-ibnC6b\" data-option=\"2\" jsaction=\"click:o6ZaF;keydown:RDtNu; keyup:JdS61c; focusin:MeMJlc; focusout:bkTmIf;mousedown:teoBgf; mouseup:NZPHBc; mouseenter:SKyDAe; mouseleave:xq3APb; touchstart:jJiBRc; touchmove:kZeBdd; touchend:VfAz8; change:uOgbud;\" role=\"menuitem\" tabindex=\"-1\"><span class=\"VfPpkd-StrnGf-rymPhb-pZXsl\"></span><span class=\"VfPpkd-StrnGf-rymPhb-b9t22c\" jsname=\"K4r5Ff\">Flag inappropriate</span></li><li class=\"bO7Z3c VfPpkd-StrnGf-rymPhb-ibnC6b\" data-option=\"3\" jsaction=\"click:o6ZaF;keydown:RDtNu; keyup:JdS61c; focusin:MeMJlc; focusout:bkTmIf;mousedown:teoBgf; mouseup:NZPHBc; mouseenter:SKyDAe; mouseleave:xq3APb; touchstart:jJiBRc; touchmove:kZeBdd; touchend:VfAz8; change:uOgbud;\" role=\"menuitem\" tabindex=\"-1\"><span class=\"VfPpkd-StrnGf-rymPhb-pZXsl\"></span><span class=\"VfPpkd-StrnGf-rymPhb-b9t22c\" jsname=\"K4r5Ff\">Show review history</span></li></ul></div></div></div></div></div><div class=\"Jx4nYe\"><div aria-label=\"Rated 3 stars out of five stars\" class=\"iXRFPc\" role=\"img\"><span aria-hidden=\"true\" class=\"F7XJmb\" data-number=\"1\" jsname=\"fI6EEc\" ssk=\"1#1\"><span aria-hidden=\"true\" class=\"Z1Dz7b\"><svg viewbox=\"0 0 24 24\" xmlns=\"http://www.w3.org/2000/svg\"><path d=\"M0 0h24v24H0z\" fill=\"none\"></path><path d=\"M0 0h24v24H0z\" fill=\"none\"></path><path d=\"M12 17.27L18.18 21l-1.64-7.03L22 9.24l-7.19-.61L12 2 9.19 8.63 2 9.24l5.46 4.73L5.82 21z\"></path></svg></span></span><span aria-hidden=\"true\" class=\"F7XJmb\" data-number=\"2\" jsname=\"fI6EEc\" ssk=\"1#2\"><span aria-hidden=\"true\" class=\"Z1Dz7b\"><svg viewbox=\"0 0 24 24\" xmlns=\"http://www.w3.org/2000/svg\"><path d=\"M0 0h24v24H0z\" fill=\"none\"></path><path d=\"M0 0h24v24H0z\" fill=\"none\"></path><path d=\"M12 17.27L18.18 21l-1.64-7.03L22 9.24l-7.19-.61L12 2 9.19 8.63 2 9.24l5.46 4.73L5.82 21z\"></path></svg></span></span><span aria-hidden=\"true\" class=\"F7XJmb\" data-number=\"3\" jsname=\"fI6EEc\" ssk=\"1#3\"><span aria-hidden=\"true\" class=\"Z1Dz7b\"><svg viewbox=\"0 0 24 24\" xmlns=\"http://www.w3.org/2000/svg\"><path d=\"M0 0h24v24H0z\" fill=\"none\"></path><path d=\"M0 0h24v24H0z\" fill=\"none\"></path><path d=\"M12 17.27L18.18 21l-1.64-7.03L22 9.24l-7.19-.61L12 2 9.19 8.63 2 9.24l5.46 4.73L5.82 21z\"></path></svg></span></span><span aria-hidden=\"true\" class=\"F7XJmb\" data-number=\"4\" jsname=\"fI6EEc\" ssk=\"1#4\"><span aria-hidden=\"true\" class=\"Wi7KIe\"><svg viewbox=\"0 0 24 24\" xmlns=\"http://www.w3.org/2000/svg\"><path d=\"M0 0h24v24H0z\" fill=\"none\"></path><path d=\"M0 0h24v24H0z\" fill=\"none\"></path><path d=\"M12 17.27L18.18 21l-1.64-7.03L22 9.24l-7.19-.61L12 2 9.19 8.63 2 9.24l5.46 4.73L5.82 21z\"></path></svg></span></span><span aria-hidden=\"true\" class=\"F7XJmb\" data-number=\"5\" jsname=\"fI6EEc\" ssk=\"1#5\"><span aria-hidden=\"true\" class=\"Wi7KIe\"><svg viewbox=\"0 0 24 24\" xmlns=\"http://www.w3.org/2000/svg\"><path d=\"M0 0h24v24H0z\" fill=\"none\"></path><path d=\"M0 0h24v24H0z\" fill=\"none\"></path><path d=\"M12 17.27L18.18 21l-1.64-7.03L22 9.24l-7.19-.61L12 2 9.19 8.63 2 9.24l5.46 4.73L5.82 21z\"></path></svg></span></span></div><span class=\"bp9Aid\">25 April 2023</span></div></header><div class=\"h3YV2d\">For someone who doesn't have a car and uses the app a lot, Uber is a huge help. What I don't like is when I driver who's so close to your location, 5 minutes away for example ignores your request and you have to wait more than 20 minutes for someone else who accepted and was 10-15 miles away. That right there gets on my nerves, but that's not Uber's fault. Drivers, if you are close just pick us up. Another thing is the cancellations of the trips over and over. Also, the GPS is horrible.</div><div data-original-thumbs-up-count=\"59\" data-review-id=\"5bfac8f0-7090-469d-a622-3bca25c2c0a1\" jscontroller=\"SWD8cc\"><div class=\"AJTPZc\" jsname=\"J0d7Yd\">59 people found this review helpful</div><footer class=\"Anb3we\" jsaction=\"sG2nqb:sY4eAb\" jsname=\"GJNbDf\" soy-skip=\"\" ssk=\"6:oOskHf\"><div class=\"NC0Ppb\">Did you find this helpful?</div><div data-expanded-toggles=\"true\" jsaction=\"rcuQ6b:BZEmlb;JIbuQc:TmtE8e\" jscontroller=\"wW2D8b\" jsmodel=\"b7Ourf\"><div class=\"b6SkTb\"><div aria-label=\"Yes\" aria-pressed=\"false\" class=\"D3Qfie VfPpkd-ksKsZd-XxIAqe UQI9cd kofMvc EFMXQ\" data-single-select=\"true\" id=\"5bfac8f0-7090-469d-a622-3bca25c2c0a1::1\" jsaction=\"click:cOuCgd; mousedown:UX7yZ; mouseup:lbsD7e; mouseenter:tfO1Yc; mouseleave:JywGue; touchstart:p6p2H; touchmove:FwuNnf; touchend:yfqBxc; touchcancel:JMtRjd; focus:AHmuwe; blur:O22p3e; contextmenu:mg9Pef;jzJ2q:RgMCxe\" jscontroller=\"fdeHmf\" role=\"button\" tabindex=\"0\"><div aria-hidden=\"true\" class=\"Gggmbb\"></div><div aria-hidden=\"true\" class=\"kW9Bj\"><span class=\"c6xzBd jv2yne\" jsname=\"o9vyuc\"></span><span class=\"ypTNYd\" jsname=\"ODzDMd\">Yes</span></div></div><div aria-label=\"No\" aria-pressed=\"false\" class=\"D3Qfie VfPpkd-ksKsZd-XxIAqe UQI9cd kofMvc EFMXQ\" data-single-select=\"true\" id=\"5bfac8f0-7090-469d-a622-3bca25c2c0a1::2\" jsaction=\"click:cOuCgd; mousedown:UX7yZ; mouseup:lbsD7e; mouseenter:tfO1Yc; mouseleave:JywGue; touchstart:p6p2H; touchmove:FwuNnf; touchend:yfqBxc; touchcancel:JMtRjd; focus:AHmuwe; blur:O22p3e; contextmenu:mg9Pef;jzJ2q:RgMCxe\" jscontroller=\"fdeHmf\" role=\"button\" tabindex=\"0\"><div aria-hidden=\"true\" class=\"Gggmbb\"></div><div aria-hidden=\"true\" class=\"kW9Bj\"><span class=\"c6xzBd jv2yne\" jsname=\"o9vyuc\"></span><span class=\"ypTNYd\" jsname=\"ODzDMd\">No</span></div></div></div></div></footer></div></div>,\n",
       " <div class=\"EGFGHd\"><header class=\"c1bOId\" data-review-id=\"5a12c798-1b4e-4444-a4a1-499be3267ad5\" jsaction=\"rcuQ6b:SIRhf\" jscontroller=\"j9sf1\"><div class=\"YNR7H\"><div class=\"gSGphe\"><img aria-hidden=\"true\" class=\"T75of abYEib\" loading=\"lazy\" src=\"https://play-lh.googleusercontent.com/a-/ACB-R5TQGkrgUokzFfa-lr5A5krQUsfP3QKacavM56K1=s32\" srcset=\"https://play-lh.googleusercontent.com/a-/ACB-R5TQGkrgUokzFfa-lr5A5krQUsfP3QKacavM56K1=s64 2x\"/><div class=\"X5PpBb\">Cino Sears</div></div><div jsaction=\"FzgWvd:uXu05d\"><div class=\"VfPpkd-xl07Ob-XxIAqe-OWXEXe-oYxtQd\" data-disable-idom=\"true\" jsaction=\"JIbuQc:aj0Jcf(WjL7X); keydown:uYT2Vb(WjL7X);iFFCZc:oNPcuf;Rld2oe:li9Srb\" jscontroller=\"wg1P6b\" jsname=\"L2ufaf\" jsshadow=\"\"><div jsname=\"WjL7X\" jsslot=\"\"><button aria-controls=\"UM33ifi15\" aria-expanded=\"false\" aria-haspopup=\"menu\" aria-label=\"More review actions\" class=\"VfPpkd-Bz112c-LgbsSe yHy1rc eT1oJ mN1ivc\" data-disable-idom=\"true\" jsaction=\"click:cOuCgd; mousedown:UX7yZ; mouseup:lbsD7e; mouseenter:tfO1Yc; mouseleave:JywGue; touchstart:p6p2H; touchmove:FwuNnf; touchend:yfqBxc; touchcancel:JMtRjd; focus:AHmuwe; blur:O22p3e; contextmenu:mg9Pef;mlnRJb:fLiPzd;\" jscontroller=\"soHxf\"><div class=\"VfPpkd-Bz112c-Jh9lGc\" jsname=\"s3Eaab\"></div><div class=\"VfPpkd-Bz112c-J1Ukfc-LhBDec\"></div><i aria-hidden=\"true\" class=\"material-icons-extended VfPpkd-kBDsod\">more_vert</i></button></div><div jsname=\"U0exHf\" jsslot=\"\"> <div class=\"VfPpkd-xl07Ob-XxIAqe VfPpkd-xl07Ob q6oraf P77izf B6Yvkd\" data-disable-idom=\"true\" data-is-hoisted=\"false\" data-menu-uid=\"ucj-3\" data-should-flip-corner-horizontally=\"false\" id=\"UM33ifi15\" jsaction=\"keydown:I481le;JIbuQc:j697N(rymPhb);XVaHYd:c9v4Fb(rymPhb);Oyo5M:b5fzT(rymPhb);DimkCe:TQSy7b(rymPhb);m0LGSd:fAWgXe(rymPhb);WAiFGd:kVJJuc(rymPhb);\" jscontroller=\"ywOR5c\"><ul aria-label=\"More review actions\" class=\"VfPpkd-StrnGf-rymPhb DMZ54e\" data-disable-idom=\"true\" jsaction=\"mouseleave:JywGue; touchcancel:JMtRjd; focus:AHmuwe; blur:O22p3e; keydown:I481le;\" jscontroller=\"PHUIyb\" jsname=\"rymPhb\" role=\"menu\" tabindex=\"-1\"><span aria-hidden=\"true\" class=\"VfPpkd-BFbNVe-bF1uUb NZp2ef\"></span><li class=\"bO7Z3c VfPpkd-StrnGf-rymPhb-ibnC6b\" data-option=\"2\" jsaction=\"click:o6ZaF;keydown:RDtNu; keyup:JdS61c; focusin:MeMJlc; focusout:bkTmIf;mousedown:teoBgf; mouseup:NZPHBc; mouseenter:SKyDAe; mouseleave:xq3APb; touchstart:jJiBRc; touchmove:kZeBdd; touchend:VfAz8; change:uOgbud;\" role=\"menuitem\" tabindex=\"-1\"><span class=\"VfPpkd-StrnGf-rymPhb-pZXsl\"></span><span class=\"VfPpkd-StrnGf-rymPhb-b9t22c\" jsname=\"K4r5Ff\">Flag inappropriate</span></li></ul></div></div></div></div></div><div class=\"Jx4nYe\"><div aria-label=\"Rated 2 stars out of five stars\" class=\"iXRFPc\" role=\"img\"><span aria-hidden=\"true\" class=\"F7XJmb\" data-number=\"1\" jsname=\"fI6EEc\" ssk=\"1#1\"><span aria-hidden=\"true\" class=\"Z1Dz7b\"><svg viewbox=\"0 0 24 24\" xmlns=\"http://www.w3.org/2000/svg\"><path d=\"M0 0h24v24H0z\" fill=\"none\"></path><path d=\"M0 0h24v24H0z\" fill=\"none\"></path><path d=\"M12 17.27L18.18 21l-1.64-7.03L22 9.24l-7.19-.61L12 2 9.19 8.63 2 9.24l5.46 4.73L5.82 21z\"></path></svg></span></span><span aria-hidden=\"true\" class=\"F7XJmb\" data-number=\"2\" jsname=\"fI6EEc\" ssk=\"1#2\"><span aria-hidden=\"true\" class=\"Z1Dz7b\"><svg viewbox=\"0 0 24 24\" xmlns=\"http://www.w3.org/2000/svg\"><path d=\"M0 0h24v24H0z\" fill=\"none\"></path><path d=\"M0 0h24v24H0z\" fill=\"none\"></path><path d=\"M12 17.27L18.18 21l-1.64-7.03L22 9.24l-7.19-.61L12 2 9.19 8.63 2 9.24l5.46 4.73L5.82 21z\"></path></svg></span></span><span aria-hidden=\"true\" class=\"F7XJmb\" data-number=\"3\" jsname=\"fI6EEc\" ssk=\"1#3\"><span aria-hidden=\"true\" class=\"Wi7KIe\"><svg viewbox=\"0 0 24 24\" xmlns=\"http://www.w3.org/2000/svg\"><path d=\"M0 0h24v24H0z\" fill=\"none\"></path><path d=\"M0 0h24v24H0z\" fill=\"none\"></path><path d=\"M12 17.27L18.18 21l-1.64-7.03L22 9.24l-7.19-.61L12 2 9.19 8.63 2 9.24l5.46 4.73L5.82 21z\"></path></svg></span></span><span aria-hidden=\"true\" class=\"F7XJmb\" data-number=\"4\" jsname=\"fI6EEc\" ssk=\"1#4\"><span aria-hidden=\"true\" class=\"Wi7KIe\"><svg viewbox=\"0 0 24 24\" xmlns=\"http://www.w3.org/2000/svg\"><path d=\"M0 0h24v24H0z\" fill=\"none\"></path><path d=\"M0 0h24v24H0z\" fill=\"none\"></path><path d=\"M12 17.27L18.18 21l-1.64-7.03L22 9.24l-7.19-.61L12 2 9.19 8.63 2 9.24l5.46 4.73L5.82 21z\"></path></svg></span></span><span aria-hidden=\"true\" class=\"F7XJmb\" data-number=\"5\" jsname=\"fI6EEc\" ssk=\"1#5\"><span aria-hidden=\"true\" class=\"Wi7KIe\"><svg viewbox=\"0 0 24 24\" xmlns=\"http://www.w3.org/2000/svg\"><path d=\"M0 0h24v24H0z\" fill=\"none\"></path><path d=\"M0 0h24v24H0z\" fill=\"none\"></path><path d=\"M12 17.27L18.18 21l-1.64-7.03L22 9.24l-7.19-.61L12 2 9.19 8.63 2 9.24l5.46 4.73L5.82 21z\"></path></svg></span></span></div><span class=\"bp9Aid\">14 April 2023</span></div></header><div class=\"h3YV2d\">This app is exactly what its tended to be. I would have given it 3, or even 4 stars. If drivers wasn't constantly canceling rides mid pick up. There should be a system. Drivers should be able to see the full trip. Deciding to take it. Bu lt once they accept a trip. There should be no cancellation. Or at least some repercussion for multiple cancels.</div><div data-original-thumbs-up-count=\"182\" data-review-id=\"5a12c798-1b4e-4444-a4a1-499be3267ad5\" jscontroller=\"SWD8cc\"><div class=\"AJTPZc\" jsname=\"J0d7Yd\">182 people found this review helpful</div><footer class=\"Anb3we\" jsaction=\"sG2nqb:sY4eAb\" jsname=\"GJNbDf\" soy-skip=\"\" ssk=\"6:oOskHf\"><div class=\"NC0Ppb\">Did you find this helpful?</div><div data-expanded-toggles=\"true\" jsaction=\"rcuQ6b:BZEmlb;JIbuQc:TmtE8e\" jscontroller=\"wW2D8b\" jsmodel=\"b7Ourf\"><div class=\"b6SkTb\"><div aria-label=\"Yes\" aria-pressed=\"false\" class=\"D3Qfie VfPpkd-ksKsZd-XxIAqe UQI9cd kofMvc EFMXQ\" data-single-select=\"true\" id=\"5a12c798-1b4e-4444-a4a1-499be3267ad5::1\" jsaction=\"click:cOuCgd; mousedown:UX7yZ; mouseup:lbsD7e; mouseenter:tfO1Yc; mouseleave:JywGue; touchstart:p6p2H; touchmove:FwuNnf; touchend:yfqBxc; touchcancel:JMtRjd; focus:AHmuwe; blur:O22p3e; contextmenu:mg9Pef;jzJ2q:RgMCxe\" jscontroller=\"fdeHmf\" role=\"button\" tabindex=\"0\"><div aria-hidden=\"true\" class=\"Gggmbb\"></div><div aria-hidden=\"true\" class=\"kW9Bj\"><span class=\"c6xzBd jv2yne\" jsname=\"o9vyuc\"></span><span class=\"ypTNYd\" jsname=\"ODzDMd\">Yes</span></div></div><div aria-label=\"No\" aria-pressed=\"false\" class=\"D3Qfie VfPpkd-ksKsZd-XxIAqe UQI9cd kofMvc EFMXQ\" data-single-select=\"true\" id=\"5a12c798-1b4e-4444-a4a1-499be3267ad5::2\" jsaction=\"click:cOuCgd; mousedown:UX7yZ; mouseup:lbsD7e; mouseenter:tfO1Yc; mouseleave:JywGue; touchstart:p6p2H; touchmove:FwuNnf; touchend:yfqBxc; touchcancel:JMtRjd; focus:AHmuwe; blur:O22p3e; contextmenu:mg9Pef;jzJ2q:RgMCxe\" jscontroller=\"fdeHmf\" role=\"button\" tabindex=\"0\"><div aria-hidden=\"true\" class=\"Gggmbb\"></div><div aria-hidden=\"true\" class=\"kW9Bj\"><span class=\"c6xzBd jv2yne\" jsname=\"o9vyuc\"></span><span class=\"ypTNYd\" jsname=\"ODzDMd\">No</span></div></div></div></div></footer></div></div>,\n",
       " <div class=\"EGFGHd\"><header class=\"c1bOId\" data-review-id=\"59b20c72-45f5-498c-898c-2d6023baecf5\" jsaction=\"rcuQ6b:SIRhf\" jscontroller=\"j9sf1\"><div class=\"YNR7H\"><div class=\"gSGphe\"><img aria-hidden=\"true\" class=\"T75of abYEib\" loading=\"lazy\" src=\"https://play-lh.googleusercontent.com/a/AGNmyxaNMtX7oypQWl-Rh4UpVT0lxyCL2ipgRuSvFBw4=s32-mo\" srcset=\"https://play-lh.googleusercontent.com/a/AGNmyxaNMtX7oypQWl-Rh4UpVT0lxyCL2ipgRuSvFBw4=s64-mo 2x\"/><div class=\"X5PpBb\">JUDY HUNT</div></div><div jsaction=\"FzgWvd:uXu05d\"><div class=\"VfPpkd-xl07Ob-XxIAqe-OWXEXe-oYxtQd\" data-disable-idom=\"true\" jsaction=\"JIbuQc:aj0Jcf(WjL7X); keydown:uYT2Vb(WjL7X);iFFCZc:oNPcuf;Rld2oe:li9Srb\" jscontroller=\"wg1P6b\" jsname=\"L2ufaf\" jsshadow=\"\"><div jsname=\"WjL7X\" jsslot=\"\"><button aria-controls=\"UM33ifi16\" aria-expanded=\"false\" aria-haspopup=\"menu\" aria-label=\"More review actions\" class=\"VfPpkd-Bz112c-LgbsSe yHy1rc eT1oJ mN1ivc\" data-disable-idom=\"true\" jsaction=\"click:cOuCgd; mousedown:UX7yZ; mouseup:lbsD7e; mouseenter:tfO1Yc; mouseleave:JywGue; touchstart:p6p2H; touchmove:FwuNnf; touchend:yfqBxc; touchcancel:JMtRjd; focus:AHmuwe; blur:O22p3e; contextmenu:mg9Pef;mlnRJb:fLiPzd;\" jscontroller=\"soHxf\"><div class=\"VfPpkd-Bz112c-Jh9lGc\" jsname=\"s3Eaab\"></div><div class=\"VfPpkd-Bz112c-J1Ukfc-LhBDec\"></div><i aria-hidden=\"true\" class=\"material-icons-extended VfPpkd-kBDsod\">more_vert</i></button></div><div jsname=\"U0exHf\" jsslot=\"\"> <div class=\"VfPpkd-xl07Ob-XxIAqe VfPpkd-xl07Ob q6oraf P77izf B6Yvkd\" data-disable-idom=\"true\" data-is-hoisted=\"false\" data-menu-uid=\"ucj-4\" data-should-flip-corner-horizontally=\"false\" id=\"UM33ifi16\" jsaction=\"keydown:I481le;JIbuQc:j697N(rymPhb);XVaHYd:c9v4Fb(rymPhb);Oyo5M:b5fzT(rymPhb);DimkCe:TQSy7b(rymPhb);m0LGSd:fAWgXe(rymPhb);WAiFGd:kVJJuc(rymPhb);\" jscontroller=\"ywOR5c\"><ul aria-label=\"More review actions\" class=\"VfPpkd-StrnGf-rymPhb DMZ54e\" data-disable-idom=\"true\" jsaction=\"mouseleave:JywGue; touchcancel:JMtRjd; focus:AHmuwe; blur:O22p3e; keydown:I481le;\" jscontroller=\"PHUIyb\" jsname=\"rymPhb\" role=\"menu\" tabindex=\"-1\"><span aria-hidden=\"true\" class=\"VfPpkd-BFbNVe-bF1uUb NZp2ef\"></span><li class=\"bO7Z3c VfPpkd-StrnGf-rymPhb-ibnC6b\" data-option=\"2\" jsaction=\"click:o6ZaF;keydown:RDtNu; keyup:JdS61c; focusin:MeMJlc; focusout:bkTmIf;mousedown:teoBgf; mouseup:NZPHBc; mouseenter:SKyDAe; mouseleave:xq3APb; touchstart:jJiBRc; touchmove:kZeBdd; touchend:VfAz8; change:uOgbud;\" role=\"menuitem\" tabindex=\"-1\"><span class=\"VfPpkd-StrnGf-rymPhb-pZXsl\"></span><span class=\"VfPpkd-StrnGf-rymPhb-b9t22c\" jsname=\"K4r5Ff\">Flag inappropriate</span></li></ul></div></div></div></div></div><div class=\"Jx4nYe\"><div aria-label=\"Rated 1 stars out of five stars\" class=\"iXRFPc\" role=\"img\"><span aria-hidden=\"true\" class=\"F7XJmb\" data-number=\"1\" jsname=\"fI6EEc\" ssk=\"1#1\"><span aria-hidden=\"true\" class=\"Z1Dz7b\"><svg viewbox=\"0 0 24 24\" xmlns=\"http://www.w3.org/2000/svg\"><path d=\"M0 0h24v24H0z\" fill=\"none\"></path><path d=\"M0 0h24v24H0z\" fill=\"none\"></path><path d=\"M12 17.27L18.18 21l-1.64-7.03L22 9.24l-7.19-.61L12 2 9.19 8.63 2 9.24l5.46 4.73L5.82 21z\"></path></svg></span></span><span aria-hidden=\"true\" class=\"F7XJmb\" data-number=\"2\" jsname=\"fI6EEc\" ssk=\"1#2\"><span aria-hidden=\"true\" class=\"Wi7KIe\"><svg viewbox=\"0 0 24 24\" xmlns=\"http://www.w3.org/2000/svg\"><path d=\"M0 0h24v24H0z\" fill=\"none\"></path><path d=\"M0 0h24v24H0z\" fill=\"none\"></path><path d=\"M12 17.27L18.18 21l-1.64-7.03L22 9.24l-7.19-.61L12 2 9.19 8.63 2 9.24l5.46 4.73L5.82 21z\"></path></svg></span></span><span aria-hidden=\"true\" class=\"F7XJmb\" data-number=\"3\" jsname=\"fI6EEc\" ssk=\"1#3\"><span aria-hidden=\"true\" class=\"Wi7KIe\"><svg viewbox=\"0 0 24 24\" xmlns=\"http://www.w3.org/2000/svg\"><path d=\"M0 0h24v24H0z\" fill=\"none\"></path><path d=\"M0 0h24v24H0z\" fill=\"none\"></path><path d=\"M12 17.27L18.18 21l-1.64-7.03L22 9.24l-7.19-.61L12 2 9.19 8.63 2 9.24l5.46 4.73L5.82 21z\"></path></svg></span></span><span aria-hidden=\"true\" class=\"F7XJmb\" data-number=\"4\" jsname=\"fI6EEc\" ssk=\"1#4\"><span aria-hidden=\"true\" class=\"Wi7KIe\"><svg viewbox=\"0 0 24 24\" xmlns=\"http://www.w3.org/2000/svg\"><path d=\"M0 0h24v24H0z\" fill=\"none\"></path><path d=\"M0 0h24v24H0z\" fill=\"none\"></path><path d=\"M12 17.27L18.18 21l-1.64-7.03L22 9.24l-7.19-.61L12 2 9.19 8.63 2 9.24l5.46 4.73L5.82 21z\"></path></svg></span></span><span aria-hidden=\"true\" class=\"F7XJmb\" data-number=\"5\" jsname=\"fI6EEc\" ssk=\"1#5\"><span aria-hidden=\"true\" class=\"Wi7KIe\"><svg viewbox=\"0 0 24 24\" xmlns=\"http://www.w3.org/2000/svg\"><path d=\"M0 0h24v24H0z\" fill=\"none\"></path><path d=\"M0 0h24v24H0z\" fill=\"none\"></path><path d=\"M12 17.27L18.18 21l-1.64-7.03L22 9.24l-7.19-.61L12 2 9.19 8.63 2 9.24l5.46 4.73L5.82 21z\"></path></svg></span></span></div><span class=\"bp9Aid\">20 April 2023</span></div></header><div class=\"h3YV2d\">The driver was excellent - he arrived 15 minutes early. I was at SFO within 45 minutes. The UBER app is very difficult to navigate for a first time user. The card that was automatically saved ISN'T the credit card I use. UBER should allow the customer to type in the card they want to use. There are specific security reasons why I don't use that particular card. Now TWO cards are listed for me. I wanted to speak to someone, and I was forced to interact via text. Customer service needs a person!</div><div data-original-thumbs-up-count=\"91\" data-review-id=\"59b20c72-45f5-498c-898c-2d6023baecf5\" jscontroller=\"SWD8cc\"><div class=\"AJTPZc\" jsname=\"J0d7Yd\">91 people found this review helpful</div><footer class=\"Anb3we\" jsaction=\"sG2nqb:sY4eAb\" jsname=\"GJNbDf\" soy-skip=\"\" ssk=\"6:oOskHf\"><div class=\"NC0Ppb\">Did you find this helpful?</div><div data-expanded-toggles=\"true\" jsaction=\"rcuQ6b:BZEmlb;JIbuQc:TmtE8e\" jscontroller=\"wW2D8b\" jsmodel=\"b7Ourf\"><div class=\"b6SkTb\"><div aria-label=\"Yes\" aria-pressed=\"false\" class=\"D3Qfie VfPpkd-ksKsZd-XxIAqe UQI9cd kofMvc EFMXQ\" data-single-select=\"true\" id=\"59b20c72-45f5-498c-898c-2d6023baecf5::1\" jsaction=\"click:cOuCgd; mousedown:UX7yZ; mouseup:lbsD7e; mouseenter:tfO1Yc; mouseleave:JywGue; touchstart:p6p2H; touchmove:FwuNnf; touchend:yfqBxc; touchcancel:JMtRjd; focus:AHmuwe; blur:O22p3e; contextmenu:mg9Pef;jzJ2q:RgMCxe\" jscontroller=\"fdeHmf\" role=\"button\" tabindex=\"0\"><div aria-hidden=\"true\" class=\"Gggmbb\"></div><div aria-hidden=\"true\" class=\"kW9Bj\"><span class=\"c6xzBd jv2yne\" jsname=\"o9vyuc\"></span><span class=\"ypTNYd\" jsname=\"ODzDMd\">Yes</span></div></div><div aria-label=\"No\" aria-pressed=\"false\" class=\"D3Qfie VfPpkd-ksKsZd-XxIAqe UQI9cd kofMvc EFMXQ\" data-single-select=\"true\" id=\"59b20c72-45f5-498c-898c-2d6023baecf5::2\" jsaction=\"click:cOuCgd; mousedown:UX7yZ; mouseup:lbsD7e; mouseenter:tfO1Yc; mouseleave:JywGue; touchstart:p6p2H; touchmove:FwuNnf; touchend:yfqBxc; touchcancel:JMtRjd; focus:AHmuwe; blur:O22p3e; contextmenu:mg9Pef;jzJ2q:RgMCxe\" jscontroller=\"fdeHmf\" role=\"button\" tabindex=\"0\"><div aria-hidden=\"true\" class=\"Gggmbb\"></div><div aria-hidden=\"true\" class=\"kW9Bj\"><span class=\"c6xzBd jv2yne\" jsname=\"o9vyuc\"></span><span class=\"ypTNYd\" jsname=\"ODzDMd\">No</span></div></div></div></div></footer></div></div>]"
      ]
     },
     "execution_count": 10,
     "metadata": {},
     "output_type": "execute_result"
    }
   ],
   "source": [
    "review_items"
   ]
  },
  {
   "cell_type": "code",
   "execution_count": 23,
   "id": "c9b7dc58",
   "metadata": {},
   "outputs": [],
   "source": [
    "# Extract the review data for each item and add it to the list\n",
    "for item in review_items:\n",
    "    review = {}\n",
    "    review['author'] = item.find('div', {'class': 'X5PpBb'}).text\n",
    "    review['date'] = item.find('div', {'class': 'Jx4nYe'}).text\n",
    "    review['comment'] = item.find('div', {'class': 'h3YV2d'}).text\n",
    "    reviews_data.append(review)"
   ]
  },
  {
   "cell_type": "code",
   "execution_count": 24,
   "id": "52cfc2c3",
   "metadata": {},
   "outputs": [
    {
     "data": {
      "text/plain": [
       "[{'author': 'Olga Hornedo',\n",
       "  'date': '25 April 2023',\n",
       "  'comment': \"For someone who doesn't have a car and uses the app a lot, Uber is a huge help. What I don't like is when I driver who's so close to your location, 5 minutes away for example ignores your request and you have to wait more than 20 minutes for someone else who accepted and was 10-15 miles away. That right there gets on my nerves, but that's not Uber's fault. Drivers, if you are close just pick us up. Another thing is the cancellations of the trips over and over. Also, the GPS is horrible.\"},\n",
       " {'author': 'Cino Sears',\n",
       "  'date': '14 April 2023',\n",
       "  'comment': \"This app is exactly what its tended to be. I would have given it 3, or even 4 stars. If drivers wasn't constantly canceling rides mid pick up. There should be a system. Drivers should be able to see the full trip. Deciding to take it. Bu lt once they accept a trip. There should be no cancellation. Or at least some repercussion for multiple cancels.\"},\n",
       " {'author': 'JUDY HUNT',\n",
       "  'date': '20 April 2023',\n",
       "  'comment': \"The driver was excellent - he arrived 15 minutes early. I was at SFO within 45 minutes. The UBER app is very difficult to navigate for a first time user. The card that was automatically saved ISN'T the credit card I use. UBER should allow the customer to type in the card they want to use. There are specific security reasons why I don't use that particular card. Now TWO cards are listed for me. I wanted to speak to someone, and I was forced to interact via text. Customer service needs a person!\"}]"
      ]
     },
     "execution_count": 24,
     "metadata": {},
     "output_type": "execute_result"
    }
   ],
   "source": [
    "reviews_data"
   ]
  },
  {
   "cell_type": "code",
   "execution_count": 25,
   "id": "cb42895a",
   "metadata": {},
   "outputs": [],
   "source": [
    "# Save the review data to a CSV file\n",
    "with open('uber_reviews.csv', 'w', newline='', encoding='utf-8') as csvfile:\n",
    "    fieldnames = ['author', 'rating', 'date', 'comment']\n",
    "    writer = csv.DictWriter(csvfile, fieldnames=fieldnames)\n",
    "    writer.writeheader()\n",
    "    for review in reviews_data:\n",
    "        writer.writerow(review)"
   ]
  },
  {
   "cell_type": "code",
   "execution_count": 26,
   "id": "199060df",
   "metadata": {},
   "outputs": [],
   "source": [
    "import pandas as pd"
   ]
  },
  {
   "cell_type": "code",
   "execution_count": 28,
   "id": "266b5d9a",
   "metadata": {},
   "outputs": [
    {
     "data": {
      "text/html": [
       "<div>\n",
       "<style scoped>\n",
       "    .dataframe tbody tr th:only-of-type {\n",
       "        vertical-align: middle;\n",
       "    }\n",
       "\n",
       "    .dataframe tbody tr th {\n",
       "        vertical-align: top;\n",
       "    }\n",
       "\n",
       "    .dataframe thead th {\n",
       "        text-align: right;\n",
       "    }\n",
       "</style>\n",
       "<table border=\"1\" class=\"dataframe\">\n",
       "  <thead>\n",
       "    <tr style=\"text-align: right;\">\n",
       "      <th></th>\n",
       "      <th>author</th>\n",
       "      <th>rating</th>\n",
       "      <th>date</th>\n",
       "      <th>comment</th>\n",
       "    </tr>\n",
       "  </thead>\n",
       "  <tbody>\n",
       "    <tr>\n",
       "      <th>0</th>\n",
       "      <td>Olga Hornedo</td>\n",
       "      <td>NaN</td>\n",
       "      <td>25 April 2023</td>\n",
       "      <td>For someone who doesn't have a car and uses th...</td>\n",
       "    </tr>\n",
       "    <tr>\n",
       "      <th>1</th>\n",
       "      <td>Cino Sears</td>\n",
       "      <td>NaN</td>\n",
       "      <td>14 April 2023</td>\n",
       "      <td>This app is exactly what its tended to be. I w...</td>\n",
       "    </tr>\n",
       "    <tr>\n",
       "      <th>2</th>\n",
       "      <td>JUDY HUNT</td>\n",
       "      <td>NaN</td>\n",
       "      <td>20 April 2023</td>\n",
       "      <td>The driver was excellent - he arrived 15 minut...</td>\n",
       "    </tr>\n",
       "  </tbody>\n",
       "</table>\n",
       "</div>"
      ],
      "text/plain": [
       "         author  rating           date  \\\n",
       "0  Olga Hornedo     NaN  25 April 2023   \n",
       "1    Cino Sears     NaN  14 April 2023   \n",
       "2     JUDY HUNT     NaN  20 April 2023   \n",
       "\n",
       "                                             comment  \n",
       "0  For someone who doesn't have a car and uses th...  \n",
       "1  This app is exactly what its tended to be. I w...  \n",
       "2  The driver was excellent - he arrived 15 minut...  "
      ]
     },
     "execution_count": 28,
     "metadata": {},
     "output_type": "execute_result"
    }
   ],
   "source": [
    "data = pd.read_csv(\"uber_reviews.csv\")\n",
    "data.head()"
   ]
  }
 ],
 "metadata": {
  "kernelspec": {
   "display_name": "Python 3 (ipykernel)",
   "language": "python",
   "name": "python3"
  },
  "language_info": {
   "codemirror_mode": {
    "name": "ipython",
    "version": 3
   },
   "file_extension": ".py",
   "mimetype": "text/x-python",
   "name": "python",
   "nbconvert_exporter": "python",
   "pygments_lexer": "ipython3",
   "version": "3.10.6"
  }
 },
 "nbformat": 4,
 "nbformat_minor": 5
}
