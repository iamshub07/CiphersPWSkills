{
 "cells": [
  {
   "cell_type": "code",
   "execution_count": 1,
   "id": "775c1e68",
   "metadata": {},
   "outputs": [],
   "source": [
    "import pandas as pd"
   ]
  },
  {
   "cell_type": "code",
   "execution_count": 9,
   "id": "c895db36",
   "metadata": {},
   "outputs": [],
   "source": [
    "#motar vehicle report\n",
    "driver = {\n",
    "    'Name' : ['Tarun', 'Imtiyaz', 'Anmol', 'Mukul','Bhuvan','Kiran'],\n",
    "    'TotalRaids' : [2,19,6,13,10,9],\n",
    "    'TotalKms_Day' : [25,234,89,102,123,109],\n",
    "    'TotalKms_Night': [0,6,10,30,100,12],\n",
    "    'Criminal':['No','No','No','No','No','Yes'],\n",
    "    'License':['23.12.23','3.1.25','09.08.22','01.07.27','08.5.2025','02.06.26'],\n",
    "    'img':['user/tarun.jpg','user/imtiyaz.jpg','user/anmol.jpg','user/mukul.jpg','user/bhuvan.jpg','user/kiran.jpg']\n",
    "}"
   ]
  },
  {
   "cell_type": "code",
   "execution_count": 6,
   "id": "b9a27956",
   "metadata": {},
   "outputs": [],
   "source": [
    "df = pd.DataFrame(driver)  "
   ]
  },
  {
   "cell_type": "code",
   "execution_count": 8,
   "id": "694c3702",
   "metadata": {},
   "outputs": [],
   "source": [
    "df.to_csv(\"driver_background.csv\",index=False)"
   ]
  },
  {
   "cell_type": "code",
   "execution_count": 11,
   "id": "f8e3b9d4",
   "metadata": {},
   "outputs": [],
   "source": [
    "import numpy as np\n",
    "import matplotlib.pyplot as plt\n",
    "import seaborn as sns"
   ]
  }
 ],
 "metadata": {
  "kernelspec": {
   "display_name": "Python 3 (ipykernel)",
   "language": "python",
   "name": "python3"
  },
  "language_info": {
   "codemirror_mode": {
    "name": "ipython",
    "version": 3
   },
   "file_extension": ".py",
   "mimetype": "text/x-python",
   "name": "python",
   "nbconvert_exporter": "python",
   "pygments_lexer": "ipython3",
   "version": "3.10.6"
  }
 },
 "nbformat": 4,
 "nbformat_minor": 5
}
